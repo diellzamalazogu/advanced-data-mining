{
 "cells": [
  {
   "cell_type": "markdown",
   "metadata": {},
   "source": [
    "<pre><b>Group Name:</b> P3-Black"
   ]
  },
  {
   "cell_type": "markdown",
   "metadata": {},
   "source": [
    "<b>Members:</b> Diellza Malazogu</pre>"
   ]
  },
  {
   "cell_type": "markdown",
   "metadata": {},
   "source": [
    "<h5>Question 1</h5>"
   ]
  },
  {
   "cell_type": "markdown",
   "metadata": {},
   "source": [
    "# 1(a)"
   ]
  },
  {
   "cell_type": "code",
   "execution_count": null,
   "metadata": {},
   "outputs": [],
   "source": []
  },
  {
   "cell_type": "code",
   "execution_count": 107,
   "metadata": {},
   "outputs": [],
   "source": [
    "import numpy as np\n",
    "\n",
    "import pandas as pd\n"
   ]
  },
  {
   "cell_type": "code",
   "execution_count": 108,
   "metadata": {},
   "outputs": [],
   "source": [
    "data = [[1.4,1.3,2.9], [1.8,1.4,3.2], [1.3,1.2,2.9],[0.9,3.5,3.1],[1.5,2.1,3.3]] \n",
    "  \n",
    "# Create the pandas DataFrame \n",
    "df = pd.DataFrame(data, columns = ['A', 'B','C'],index=['x1', 'x2', 'x3','x4','x5']) "
   ]
  },
  {
   "cell_type": "markdown",
   "metadata": {},
   "source": [
    "Now, we add the new data point x below as following:"
   ]
  },
  {
   "cell_type": "code",
   "execution_count": 109,
   "metadata": {},
   "outputs": [
    {
     "data": {
      "text/html": [
       "<div>\n",
       "<style scoped>\n",
       "    .dataframe tbody tr th:only-of-type {\n",
       "        vertical-align: middle;\n",
       "    }\n",
       "\n",
       "    .dataframe tbody tr th {\n",
       "        vertical-align: top;\n",
       "    }\n",
       "\n",
       "    .dataframe thead th {\n",
       "        text-align: right;\n",
       "    }\n",
       "</style>\n",
       "<table border=\"1\" class=\"dataframe\">\n",
       "  <thead>\n",
       "    <tr style=\"text-align: right;\">\n",
       "      <th></th>\n",
       "      <th>A</th>\n",
       "      <th>B</th>\n",
       "      <th>C</th>\n",
       "    </tr>\n",
       "  </thead>\n",
       "  <tbody>\n",
       "    <tr>\n",
       "      <td>x1</td>\n",
       "      <td>1.40</td>\n",
       "      <td>1.30</td>\n",
       "      <td>2.90</td>\n",
       "    </tr>\n",
       "    <tr>\n",
       "      <td>x2</td>\n",
       "      <td>1.80</td>\n",
       "      <td>1.40</td>\n",
       "      <td>3.20</td>\n",
       "    </tr>\n",
       "    <tr>\n",
       "      <td>x3</td>\n",
       "      <td>1.30</td>\n",
       "      <td>1.20</td>\n",
       "      <td>2.90</td>\n",
       "    </tr>\n",
       "    <tr>\n",
       "      <td>x4</td>\n",
       "      <td>0.90</td>\n",
       "      <td>3.50</td>\n",
       "      <td>3.10</td>\n",
       "    </tr>\n",
       "    <tr>\n",
       "      <td>x5</td>\n",
       "      <td>1.50</td>\n",
       "      <td>2.10</td>\n",
       "      <td>3.30</td>\n",
       "    </tr>\n",
       "    <tr>\n",
       "      <td>x</td>\n",
       "      <td>1.25</td>\n",
       "      <td>1.78</td>\n",
       "      <td>3.01</td>\n",
       "    </tr>\n",
       "  </tbody>\n",
       "</table>\n",
       "</div>"
      ],
      "text/plain": [
       "       A     B     C\n",
       "x1  1.40  1.30  2.90\n",
       "x2  1.80  1.40  3.20\n",
       "x3  1.30  1.20  2.90\n",
       "x4  0.90  3.50  3.10\n",
       "x5  1.50  2.10  3.30\n",
       "x   1.25  1.78  3.01"
      ]
     },
     "execution_count": 109,
     "metadata": {},
     "output_type": "execute_result"
    }
   ],
   "source": [
    "newdf = df.append({'A' : 1.25 , 'B' : 1.78, 'C':3.01} , ignore_index=True)\n",
    "newdf.rename(index={0: 'x1',1:'x2',2:'x3',3:'x4',4:'x5',5:'x'})"
   ]
  },
  {
   "cell_type": "markdown",
   "metadata": {},
   "source": [
    "<b>Manhattan Distance</b>"
   ]
  },
  {
   "cell_type": "code",
   "execution_count": 110,
   "metadata": {},
   "outputs": [],
   "source": [
    "def manhattan_distance(x,y):\n",
    "    return sum(abs(a-b) for a,b in zip(x,y))\n",
    "\n",
    "datals=newdf.values.tolist()\n",
    "x1=datals[0]\n",
    "x2=datals[1]\n",
    "x3=datals[2]\n",
    "x4=datals[3]\n",
    "x5=datals[4]\n",
    "x=datals[5]"
   ]
  },
  {
   "cell_type": "code",
   "execution_count": 111,
   "metadata": {},
   "outputs": [
    {
     "name": "stdout",
     "output_type": "stream",
     "text": [
      "Manhattan distance between x1 and x:\n",
      "0.7399999999999998\n",
      "\n",
      " \n",
      "Manhattan distance between x2 and x:\n",
      "1.1200000000000006\n",
      "\n",
      " \n",
      "Manhattan distance between x3 and x:\n",
      "0.74\n",
      "\n",
      " \n",
      "Manhattan distance between x4 and x:\n",
      "2.16\n",
      "\n",
      " \n",
      "Manhattan distance between x5 and x:\n",
      "0.8600000000000001\n",
      "\n",
      " \n"
     ]
    }
   ],
   "source": [
    "print(\"Manhattan distance between x1 and x:\")\n",
    "print(manhattan_distance(x1,x))\n",
    "print('\\n ')\n",
    "\n",
    "print(\"Manhattan distance between x2 and x:\")\n",
    "print(manhattan_distance(x2,x))\n",
    "print('\\n ')\n",
    "\n",
    "print(\"Manhattan distance between x3 and x:\")\n",
    "print(manhattan_distance(x3,x))\n",
    "print('\\n ')\n",
    "\n",
    "print(\"Manhattan distance between x4 and x:\")\n",
    "print(manhattan_distance(x4,x))\n",
    "print('\\n ')\n",
    "\n",
    "print(\"Manhattan distance between x5 and x:\")\n",
    "print(manhattan_distance(x5,x))\n",
    "print('\\n ')"
   ]
  },
  {
   "cell_type": "markdown",
   "metadata": {},
   "source": [
    "<b>Euclidean Distance</b>"
   ]
  },
  {
   "cell_type": "code",
   "execution_count": 112,
   "metadata": {},
   "outputs": [],
   "source": [
    "from math import*\n",
    "\n",
    "def euclidean_distance(x,y):\n",
    "    return sqrt(sum(pow(a-b,2) for a, b in zip(x, y)))"
   ]
  },
  {
   "cell_type": "code",
   "execution_count": 113,
   "metadata": {},
   "outputs": [
    {
     "name": "stdout",
     "output_type": "stream",
     "text": [
      "Euclidean distance between x1 and x:\n",
      "0.5147815070493499\n",
      "\n",
      " \n",
      "Euclidean distance between x2 and x:\n",
      "0.6949820141557623\n",
      "\n",
      " \n",
      "Euclidean distance between x3 and x:\n",
      "0.592452529743945\n",
      "\n",
      " \n",
      "Euclidean distance between x4 and x:\n",
      "1.7575551200460258\n",
      "\n",
      " \n",
      "Euclidean distance between x5 and x:\n",
      "0.49899899799498604\n",
      "\n",
      " \n"
     ]
    }
   ],
   "source": [
    "print(\"Euclidean distance between x1 and x:\")\n",
    "print(euclidean_distance(x1,x))\n",
    "print('\\n ')\n",
    "\n",
    "print(\"Euclidean distance between x2 and x:\")\n",
    "print(euclidean_distance(x2,x))\n",
    "print('\\n ')\n",
    "\n",
    "print(\"Euclidean distance between x3 and x:\")\n",
    "print(euclidean_distance(x3,x))\n",
    "print('\\n ')\n",
    "\n",
    "print(\"Euclidean distance between x4 and x:\")\n",
    "print(euclidean_distance(x4,x))\n",
    "print('\\n ')\n",
    "\n",
    "print(\"Euclidean distance between x5 and x:\")\n",
    "print(euclidean_distance(x5,x))\n",
    "print('\\n ')"
   ]
  },
  {
   "cell_type": "markdown",
   "metadata": {},
   "source": [
    "<b>Minkowski distance (λ = 3)</b>"
   ]
  },
  {
   "cell_type": "code",
   "execution_count": 114,
   "metadata": {},
   "outputs": [],
   "source": [
    "from math import*\n",
    "from decimal import Decimal\n",
    " \n",
    "def nth_root(value, n_root):\n",
    "    root_value = 1/float(n_root)\n",
    "    return round (Decimal(value) ** Decimal(root_value),3)\n",
    " \n",
    "def minkowski_distance(x,y,p_value):\n",
    "    return nth_root(sum(pow(abs(a-b),p_value) for a,b in zip(x, y)),p_value)"
   ]
  },
  {
   "cell_type": "code",
   "execution_count": 115,
   "metadata": {},
   "outputs": [
    {
     "name": "stdout",
     "output_type": "stream",
     "text": [
      "Minkowski distance λ = 3 between x1 and x:\n",
      "0.487\n",
      "\n",
      " \n",
      "Minkowski distance λ = 3 between x2 and x:\n",
      "0.611\n",
      "\n",
      " \n",
      "Minkowski distance λ = 3 between x3 and x:\n",
      "0.581\n",
      "\n",
      " \n",
      "Minkowski distance λ = 3 between x4 and x:\n",
      "1.725\n",
      "\n",
      " \n",
      "Minkowski distance λ = 3 between x5 and x:\n",
      "0.418\n",
      "\n",
      " \n"
     ]
    }
   ],
   "source": [
    "print(\"Minkowski distance λ = 3 between x1 and x:\")\n",
    "print(minkowski_distance(x1,x,3))\n",
    "print('\\n ')\n",
    "\n",
    "print(\"Minkowski distance λ = 3 between x2 and x:\")\n",
    "print(minkowski_distance(x2,x,3))\n",
    "print('\\n ')\n",
    "\n",
    "print(\"Minkowski distance λ = 3 between x3 and x:\")\n",
    "print(minkowski_distance(x3,x,3))\n",
    "print('\\n ')\n",
    "\n",
    "print(\"Minkowski distance λ = 3 between x4 and x:\")\n",
    "print(minkowski_distance(x4,x,3))\n",
    "print('\\n ')\n",
    "\n",
    "print(\"Minkowski distance λ = 3 between x5 and x:\")\n",
    "print(minkowski_distance(x5,x,3))\n",
    "print('\\n ')"
   ]
  },
  {
   "cell_type": "markdown",
   "metadata": {},
   "source": [
    "<b>Supremum distance</b>"
   ]
  },
  {
   "cell_type": "code",
   "execution_count": 116,
   "metadata": {},
   "outputs": [
    {
     "name": "stdout",
     "output_type": "stream",
     "text": [
      "Minkowski distance λ = ∞(Supremum Distance) between x1 and x:\n",
      "0.48\n",
      "\n",
      " \n",
      "Minkowski distance λ = ∞(Supremum Distance) between x2 and x:\n",
      "0.55\n",
      "\n",
      " \n",
      "Minkowski distance λ = ∞(Supremum Distance) between x3 and x:\n",
      "0.5800000000000001\n",
      "\n",
      " \n",
      "Minkowski distance λ = ∞(Supremum Distance) between x4 and x:\n",
      "1.72\n",
      "\n",
      " \n",
      "Minkowski distance λ = ∞(Supremum Distance) between x5 and x:\n",
      "0.32000000000000006\n",
      "\n",
      " \n"
     ]
    }
   ],
   "source": [
    "from scipy.spatial import distance\n",
    "\n",
    "print(\"Minkowski distance λ = ∞(Supremum Distance) between x1 and x:\")\n",
    "print(distance.chebyshev(x,x1))\n",
    "print('\\n ')\n",
    "\n",
    "print(\"Minkowski distance λ = ∞(Supremum Distance) between x2 and x:\")\n",
    "print(distance.chebyshev(x,x2))\n",
    "print('\\n ')\n",
    "\n",
    "print(\"Minkowski distance λ = ∞(Supremum Distance) between x3 and x:\")\n",
    "print(distance.chebyshev(x,x3))\n",
    "print('\\n ')\n",
    "\n",
    "print(\"Minkowski distance λ = ∞(Supremum Distance) between x4 and x:\")\n",
    "print(distance.chebyshev(x,x4))\n",
    "print('\\n ')\n",
    "\n",
    "print(\"Minkowski distance λ = ∞(Supremum Distance) between x5 and x:\")\n",
    "print(distance.chebyshev(x,x5))\n",
    "print('\\n ')"
   ]
  },
  {
   "cell_type": "markdown",
   "metadata": {},
   "source": [
    "<b>Cosine similarity</b>"
   ]
  },
  {
   "cell_type": "code",
   "execution_count": 117,
   "metadata": {},
   "outputs": [
    {
     "name": "stdout",
     "output_type": "stream",
     "text": [
      "Cosine similarity between x1 and x:\n",
      "0.008024681013512613\n",
      "\n",
      " \n",
      "Cosine similarity between x2 and x:\n",
      "0.014954903883011461\n",
      "\n",
      " \n",
      "Cosine similarity between x3 and x:\n",
      "0.009939680724629696\n",
      "\n",
      " \n",
      "Cosine similarity between x4 and x:\n",
      "0.056311636288193245\n",
      "\n",
      " \n",
      "Cosine similarity between x5 and x:\n",
      "0.0007314392618005261\n",
      "\n",
      " \n"
     ]
    }
   ],
   "source": [
    "print(\"Cosine similarity between x1 and x:\")\n",
    "print(distance.cosine(x, x1))\n",
    "print('\\n ')\n",
    "\n",
    "print(\"Cosine similarity between x2 and x:\")\n",
    "print(distance.cosine(x, x2))\n",
    "print('\\n ')\n",
    "\n",
    "print(\"Cosine similarity between x3 and x:\")\n",
    "print(distance.cosine(x, x3))\n",
    "print('\\n ')\n",
    "\n",
    "print(\"Cosine similarity between x4 and x:\")\n",
    "print(distance.cosine(x, x4))\n",
    "print('\\n ')\n",
    "\n",
    "print(\"Cosine similarity between x5 and x:\")\n",
    "print(distance.cosine(x, x5))\n",
    "print('\\n ')"
   ]
  },
  {
   "cell_type": "markdown",
   "metadata": {},
   "source": [
    "# 1(b)"
   ]
  },
  {
   "cell_type": "markdown",
   "metadata": {},
   "source": [
    "Normalizing the x data using min-max normalization between 0 and 1:"
   ]
  },
  {
   "cell_type": "code",
   "execution_count": 118,
   "metadata": {},
   "outputs": [],
   "source": [
    "from sklearn.preprocessing import MinMaxScaler\n",
    "\n",
    "scaler = MinMaxScaler() \n",
    "scaled_values = scaler.fit_transform(newdf) \n",
    "newdf.loc[:,:] = scaled_values"
   ]
  },
  {
   "cell_type": "code",
   "execution_count": 119,
   "metadata": {},
   "outputs": [
    {
     "data": {
      "text/html": [
       "<div>\n",
       "<style scoped>\n",
       "    .dataframe tbody tr th:only-of-type {\n",
       "        vertical-align: middle;\n",
       "    }\n",
       "\n",
       "    .dataframe tbody tr th {\n",
       "        vertical-align: top;\n",
       "    }\n",
       "\n",
       "    .dataframe thead th {\n",
       "        text-align: right;\n",
       "    }\n",
       "</style>\n",
       "<table border=\"1\" class=\"dataframe\">\n",
       "  <thead>\n",
       "    <tr style=\"text-align: right;\">\n",
       "      <th></th>\n",
       "      <th>A</th>\n",
       "      <th>B</th>\n",
       "      <th>C</th>\n",
       "    </tr>\n",
       "  </thead>\n",
       "  <tbody>\n",
       "    <tr>\n",
       "      <td>0</td>\n",
       "      <td>0.555556</td>\n",
       "      <td>0.043478</td>\n",
       "      <td>0.000</td>\n",
       "    </tr>\n",
       "    <tr>\n",
       "      <td>1</td>\n",
       "      <td>1.000000</td>\n",
       "      <td>0.086957</td>\n",
       "      <td>0.750</td>\n",
       "    </tr>\n",
       "    <tr>\n",
       "      <td>2</td>\n",
       "      <td>0.444444</td>\n",
       "      <td>0.000000</td>\n",
       "      <td>0.000</td>\n",
       "    </tr>\n",
       "    <tr>\n",
       "      <td>3</td>\n",
       "      <td>0.000000</td>\n",
       "      <td>1.000000</td>\n",
       "      <td>0.500</td>\n",
       "    </tr>\n",
       "    <tr>\n",
       "      <td>4</td>\n",
       "      <td>0.666667</td>\n",
       "      <td>0.391304</td>\n",
       "      <td>1.000</td>\n",
       "    </tr>\n",
       "    <tr>\n",
       "      <td>5</td>\n",
       "      <td>0.388889</td>\n",
       "      <td>0.252174</td>\n",
       "      <td>0.275</td>\n",
       "    </tr>\n",
       "  </tbody>\n",
       "</table>\n",
       "</div>"
      ],
      "text/plain": [
       "          A         B      C\n",
       "0  0.555556  0.043478  0.000\n",
       "1  1.000000  0.086957  0.750\n",
       "2  0.444444  0.000000  0.000\n",
       "3  0.000000  1.000000  0.500\n",
       "4  0.666667  0.391304  1.000\n",
       "5  0.388889  0.252174  0.275"
      ]
     },
     "execution_count": 119,
     "metadata": {},
     "output_type": "execute_result"
    }
   ],
   "source": [
    "newdf"
   ]
  },
  {
   "cell_type": "code",
   "execution_count": 120,
   "metadata": {},
   "outputs": [],
   "source": [
    "datals=newdf.values.tolist()\n",
    "x1=datals[0]\n",
    "x2=datals[1]\n",
    "x3=datals[2]\n",
    "x4=datals[3]\n",
    "x5=datals[4]\n",
    "x=datals[5]"
   ]
  },
  {
   "cell_type": "markdown",
   "metadata": {},
   "source": [
    "<b>Euclidean distance with normalized x </b>"
   ]
  },
  {
   "cell_type": "code",
   "execution_count": 121,
   "metadata": {},
   "outputs": [
    {
     "name": "stdout",
     "output_type": "stream",
     "text": [
      "Euclidean distance between x1 and x:\n",
      "0.383349257223844\n",
      "\n",
      " \n",
      "Euclidean distance between x2 and x:\n",
      "0.7914408231275862\n",
      "\n",
      " \n",
      "Euclidean distance between x3 and x:\n",
      "0.37723083406946795\n",
      "\n",
      " \n",
      "Euclidean distance between x4 and x:\n",
      "0.8724124163685073\n",
      "\n",
      " \n",
      "Euclidean distance between x5 and x:\n",
      "0.7887602751850268\n",
      "\n",
      " \n"
     ]
    }
   ],
   "source": [
    "print(\"Euclidean distance between x1 and x:\")\n",
    "print(euclidean_distance(x1,x))\n",
    "print('\\n ')\n",
    "\n",
    "print(\"Euclidean distance between x2 and x:\")\n",
    "print(euclidean_distance(x2,x))\n",
    "print('\\n ')\n",
    "\n",
    "print(\"Euclidean distance between x3 and x:\")\n",
    "print(euclidean_distance(x3,x))\n",
    "print('\\n ')\n",
    "\n",
    "print(\"Euclidean distance between x4 and x:\")\n",
    "print(euclidean_distance(x4,x))\n",
    "print('\\n ')\n",
    "\n",
    "print(\"Euclidean distance between x5 and x:\")\n",
    "print(euclidean_distance(x5,x))\n",
    "print('\\n ')"
   ]
  },
  {
   "cell_type": "markdown",
   "metadata": {},
   "source": [
    "<h5>Question 2</h5>"
   ]
  },
  {
   "cell_type": "markdown",
   "metadata": {},
   "source": [
    "# 2(a)"
   ]
  },
  {
   "cell_type": "code",
   "execution_count": 122,
   "metadata": {},
   "outputs": [],
   "source": [
    "data = [[1,4], [1,3], [0,4],[2,5],[5,1],[6,2],[4,0],[5,2]] \n",
    "  \n",
    "# Create the pandas DataFrame \n",
    "df = pd.DataFrame(data, columns = ['X1', 'X2']) "
   ]
  },
  {
   "cell_type": "code",
   "execution_count": 123,
   "metadata": {},
   "outputs": [
    {
     "data": {
      "image/png": "[encoded data removed]",
      "text/plain": [
       "<Figure size 432x288 with 1 Axes>"
      ]
     },
     "metadata": {
      "needs_background": "light"
     },
     "output_type": "display_data"
    }
   ],
   "source": [
    "ax = df.plot.scatter(x='X1',y='X2',c='black')\n",
    "ax.set_title('Plot of the sample data', fontsize = 15)\n",
    "ax.grid()"
   ]
  },
  {
   "cell_type": "markdown",
   "metadata": {},
   "source": [
    "# 2(b)"
   ]
  },
  {
   "cell_type": "markdown",
   "metadata": {},
   "source": [
    "| Iteration | Centers | $X_1$  | $X_2$  |\n",
    "|-----------|---------|--------|--------|\n",
    "| Iter0     | Cluster1 | 11/4 | 2 |\n",
    "| Iter0     | Cluster2 | 13/4 |13/4  |\n"
   ]
  },
  {
   "cell_type": "markdown",
   "metadata": {},
   "source": [
    "# 2(c)"
   ]
  },
  {
   "cell_type": "markdown",
   "metadata": {},
   "source": [
    "| Sample | $X_1$ | $X_2$ | Iter0 | d2c1 | d2c2| Iter1 | \n",
    "|--------|-------|-------|----|----|----|----|\n",
    "| 1      | 1     | 4     | 1  |  2.657  |  2.371  | 2   |    \n",
    "| 2      | 1     | 3     | 1  |   2.015 |  2.263  |  1  |    \n",
    "| 3      | 0     | 4     | 2  | 3.40   |   3.335 |    2|    \n",
    "| 4      | 2     | 5     | 2  |3.092    |   2.150 |    2|    \n",
    "| 5      | 5     | 1     | 1  |  2.462  |  2.850  |    1|    \n",
    "| 6      | 6     | 2     | 2  |  3.25  |  3.020  |   2 |   \n",
    "| 7      | 4     | 0     | 1  |  2.358  |  3.335  |   1 |   \n",
    "| 8      | 5     | 2     | 1  |  2.25  |   2.150 |    2|    \n",
    "\n",
    "\n",
    "\n",
    "\n"
   ]
  },
  {
   "cell_type": "markdown",
   "metadata": {},
   "source": [
    "# 2(d)"
   ]
  },
  {
   "cell_type": "markdown",
   "metadata": {},
   "source": [
    "Repeating (b) and (c) until the clusters remain stable"
   ]
  },
  {
   "cell_type": "markdown",
   "metadata": {},
   "source": [
    "| Iteration | Centers | $X_1$  | $X_2$  |\n",
    "|-----------|---------|--------|--------|\n",
    "| Iter0     | Cluster1| 11/4   | 2      |\n",
    "| Iter0     | Cluster2| 13/4   | 13/4   |\n",
    "| Iter1     | Cluster1| 10/3   | 4/3    |\n",
    "| Iter1     | Cluster2| 14/5   |  17/5  |\n",
    "| Iter2     | Cluster1| 5      | 5/4    |\n",
    "| Iter2     | Cluster2|  1     |  4     |\n",
    "| Iter3     | Cluster1|  5     |   5/4  |\n",
    "| Iter3     | Cluster2|    1    |    4    |"
   ]
  },
  {
   "cell_type": "markdown",
   "metadata": {},
   "source": [
    "| Sample | $X_1$ | $X_2$ | Iter0 | d2c1 | d2c2| Iter1 | d2c1 | d2c2 | Iter2 | d2c1 |d2c2 |Iter3|\n",
    "|--------|-------|-------|-------|------|-----|-------|------|------|-------|------|-----|-----|\n",
    "| 1      | 1     | 4     | 1     |2.657 |2.371|2      |3.543 |1.897 |2      |4.854 |0    |2    |\n",
    "| 2      | 1     | 3     | 1     |2.015 |2.263|1      |2.867 |1.843 |2      |4.366 |1    |2    |\n",
    "| 3      | 0     | 4     | 2     |3.40  |3.335|2      |4.268 |2.863 |2      |5.706 |1    |2    |\n",
    "| 4      | 2     | 5     | 2     |3.092 |2.150|2      |3.901 |1.788 |2      |4.802 |1.414|2    |\n",
    "| 5      | 5     | 1     | 1     |2.462 |2.850|1      |1.699 |3.255 |1      |0.25  |5.0  |1    |\n",
    "| 6      | 6     | 2     | 2     |3.25  |3.020|2      |2.748 |3.492 |1      | 1.25 |5.385|1    |\n",
    "| 7      | 4     | 0     | 1     |2.358 |3.335|1      |1.490 |3.605 |1      | 1.600|5.0  |1    |\n",
    "| 8      | 5     | 2     | 1     |2.25  |2.150|2      |1.795 |2.607 |1      | 0.75 |4.472|1    |"
   ]
  },
  {
   "cell_type": "markdown",
   "metadata": {},
   "source": [
    "From iteration we se that on Iteration 3 the clusters remain stable, as a result at this point we stop the iteration."
   ]
  },
  {
   "cell_type": "markdown",
   "metadata": {},
   "source": [
    "# 2(e)"
   ]
  },
  {
   "cell_type": "code",
   "execution_count": 124,
   "metadata": {},
   "outputs": [
    {
     "name": "stderr",
     "output_type": "stream",
     "text": [
      "No handles with labels found to put in legend.\n"
     ]
    },
    {
     "data": {
      "image/png": "[encoded data removed]",
      "text/plain": [
       "<Figure size 432x288 with 1 Axes>"
      ]
     },
     "metadata": {
      "needs_background": "light"
     },
     "output_type": "display_data"
    }
   ],
   "source": [
    "from sklearn.cluster import KMeans\n",
    "from sklearn import metrics\n",
    "import numpy as np\n",
    "import matplotlib.pyplot as plt\n",
    "\n",
    "x1 = np.array([1, 1, 0, 2, 5, 6, 4, 5])\n",
    "x2 = np.array([4, 3, 4, 5, 1, 2, 0, 2])\n",
    "\n",
    "\n",
    "\n",
    "plt.plot()\n",
    "X = np.array(list(zip(x1, x2))).reshape(len(x1), 2)\n",
    "colors = ['b', 'g']\n",
    "markers = ['o', 'v']\n",
    "\n",
    "# KMeans algorithm \n",
    "K = 2\n",
    "kmeans_model = KMeans(n_clusters=K).fit(X)\n",
    "\n",
    "centers = np.array(kmeans_model.cluster_centers_)\n",
    "\n",
    "plt.plot()\n",
    "plt.title('K-means Clustering adding centorid points')\n",
    "\n",
    "for i, l in enumerate(kmeans_model.labels_):\n",
    "    plt.plot(x1[i], x2[i], color=colors[l], marker=markers[l],ls='None')\n",
    "\n",
    "plt.scatter(centers[:,0], centers[:,1], marker=\"*\", color='r', linewidths=10)\n",
    "plt.xlabel('X1')\n",
    "plt.ylabel('X2')\n",
    "plt.legend()\n",
    "plt.show()\n"
   ]
  },
  {
   "cell_type": "markdown",
   "metadata": {},
   "source": [
    "<h5>Question 3</h5>"
   ]
  },
  {
   "cell_type": "markdown",
   "metadata": {},
   "source": [
    "# 3(a)"
   ]
  },
  {
   "cell_type": "markdown",
   "metadata": {},
   "source": [
    "By trace running through hierarchical clustering manually with complete linkage we obtain the following:"
   ]
  },
  {
   "cell_type": "markdown",
   "metadata": {},
   "source": [
    "\\begin{equation}\n",
    "  \\begin{bmatrix}\n",
    "    0 & 0.3 & 0.4 & 0.7 & 0.6\\\\\n",
    "    0.3 & 0 & 0.5 & 0.8 & 0.2 \\\\\n",
    "    0.4 & 0.5 & 0 & 0.45 & 0.4 \\\\\n",
    "    0.7 & 0.8 & 0.45 & 0 & 0.35 \\\\\n",
    "    0.6 & *0.2* & 0.4 & 0.35 & 0 \\\\\n",
    "  \\end{bmatrix}\n",
    "  \\label{eq:aeqn}\n",
    "\\end{equation}"
   ]
  },
  {
   "cell_type": "markdown",
   "metadata": {},
   "source": [
    "\n",
    "\n",
    "\\begin{equation}\n",
    "  \\begin{bmatrix}\n",
    "    0 & 0.6 & 0.5 & 0.4 \\\\\n",
    "    0.6 & 0 & 0.4 & 0.7 \\\\\n",
    "    0.5 & *0.4* & 0 & 0.45 \\\\\n",
    "    0.8 & 0.7 & 0.45 & 0 \\\\\n",
    "  \\end{bmatrix}\n",
    "  \\label{eq:aeqn}\n",
    "\\end{equation}"
   ]
  },
  {
   "cell_type": "markdown",
   "metadata": {},
   "source": [
    "\n",
    "\n",
    "\\begin{equation}\n",
    "  \\begin{bmatrix}\n",
    "    0 & 0.6 & 0.8 \\\\\n",
    "    *0.6* & 0 & 0.7 \\\\\n",
    "    0.8 & 0.7 & 0 \\\\\n",
    "  \\end{bmatrix}\n",
    "  \\label{eq:aeqn}\n",
    "\\end{equation}"
   ]
  },
  {
   "cell_type": "markdown",
   "metadata": {},
   "source": [
    "\\begin{equation}\n",
    "  \\begin{bmatrix}\n",
    "    0 & 0.8 \\\\\n",
    "    *0.8* & 0 \\\\\n",
    "  \\end{bmatrix}\n",
    "  \\label{eq:aeqn}\n",
    "\\end{equation}"
   ]
  },
  {
   "cell_type": "markdown",
   "metadata": {},
   "source": [
    "The dendrogram including the estimate heights from the dissimilarity distances is as following:\n"
   ]
  },
  {
   "cell_type": "markdown",
   "metadata": {},
   "source": [
    "  <pre>  \n",
    "                ______________           \n",
    "   0.8   |     |             |\n",
    "         |     |       ______|______\n",
    "   0.6   |     |       |           |\n",
    "         |     |      _|_          |\n",
    "   0.4   |     |     |   |         |\n",
    "         |     |     |   |        _|_\n",
    "   0.2   |     |     |   |       |   |\n",
    "         |     |     |   |       |   |\n",
    "         -------------------------------\n",
    "                4    3  1        5   2\n",
    "</pre>"
   ]
  },
  {
   "cell_type": "markdown",
   "metadata": {},
   "source": [
    "<pre>From the dendogram above we can see that for:\n",
    "5,2 height is 0.2\n",
    "3,1 height is 0.4\n",
    "52,31 height is 0.6\n",
    "5231, 4 height is 0.8</pre>"
   ]
  },
  {
   "cell_type": "markdown",
   "metadata": {},
   "source": [
    "# 3(b)\n",
    "\n",
    "\n",
    "\n"
   ]
  },
  {
   "cell_type": "markdown",
   "metadata": {},
   "source": [
    "By trace running through hierarchical clustering manually with single linkage we obtain the following:"
   ]
  },
  {
   "cell_type": "markdown",
   "metadata": {},
   "source": [
    "\\begin{equation}\n",
    "  \\begin{bmatrix}\n",
    "    0 & 0.3 & 0.4 & 0.7 & 0.6\\\\\n",
    "    0.3 & 0 & 0.5 & 0.8 & 0.2 \\\\\n",
    "    0.4 & 0.5 & 0 & 0.45 & 0.4 \\\\\n",
    "    0.7 & 0.8 & 0.45 & 0 & 0.35 \\\\\n",
    "    0.6 & *0.2* & 0.4 & 0.35 & 0 \\\\\n",
    "  \\end{bmatrix}\n",
    "  \\label{eq:aeqn}\n",
    "\\end{equation}"
   ]
  },
  {
   "cell_type": "markdown",
   "metadata": {},
   "source": [
    "\n",
    "\\begin{equation}\n",
    "  \\begin{bmatrix}\n",
    "    0 & 0.3 & 0.4 & 0.35 \\\\\n",
    "    *0.3* & 0 & 0.4 & 0.7 \\\\\n",
    "    0.4 & 0.4 & 0 & 0.45 \\\\\n",
    "    0.35 & 0.7 & 0.45 & 0 \\\\\n",
    "  \\end{bmatrix}\n",
    "  \\label{eq:aeqn}\n",
    "\\end{equation}"
   ]
  },
  {
   "cell_type": "markdown",
   "metadata": {},
   "source": [
    "\n",
    "\n",
    "\\begin{equation}\n",
    "  \\begin{bmatrix}\n",
    "    0 & 0.4 & 0.35 \\\\\n",
    "    0.4 & 0 & 0.45 \\\\\n",
    "    *0.35* & 0.45 & 0 \\\\\n",
    "  \\end{bmatrix}\n",
    "  \\label{eq:aeqn}\n",
    "\\end{equation}"
   ]
  },
  {
   "cell_type": "markdown",
   "metadata": {},
   "source": [
    "\\begin{equation}\n",
    "  \\begin{bmatrix}\n",
    "    0 & 0.4 \\\\\n",
    "    *0.4* & 0 \\\\\n",
    "  \\end{bmatrix}\n",
    "  \\label{eq:aeqn}\n",
    "\\end{equation}"
   ]
  },
  {
   "cell_type": "markdown",
   "metadata": {},
   "source": [
    "The dendrogram including the estimate heights from the dissimilarity distances is as following:"
   ]
  },
  {
   "cell_type": "markdown",
   "metadata": {},
   "source": [
    " <pre>  \n",
    "              _______           \n",
    "   0.4   |   |       |     \n",
    "         |   |     __|_______            \n",
    "   0.35  |   |    |         |     \n",
    "         |   |    |   ______|_____\n",
    "   0.3   |   |    |  |           |\n",
    "         |   |    |  |          _|_\n",
    "   0.2   |   |    |  |         |   |\n",
    "         |   |    |  |         |   |\n",
    "         -------------------------------\n",
    "             3    4   1        5   2\n",
    "\n",
    "\n",
    "\n",
    "\n",
    "\n",
    "\n",
    "\n",
    "</pre>"
   ]
  },
  {
   "cell_type": "markdown",
   "metadata": {},
   "source": [
    "<pre>From the dendogram above we can see that for:\n",
    "5,2 height is 0.2\n",
    "52,1 height is 0.3\n",
    "521,4 height is 0.35\n",
    "5214,3 height is 0.4</pre>"
   ]
  },
  {
   "cell_type": "markdown",
   "metadata": {},
   "source": [
    "# 3(c)"
   ]
  },
  {
   "cell_type": "markdown",
   "metadata": {},
   "source": [
    " <pre>  \n",
    "                ______________           \n",
    "   0.8   |     |             |\n",
    "         |     |       ______|______\n",
    "   0.6   |     |       |           |\n",
    "         |<span style=\"color:red\">----------------------------</span>\n",
    "   0.4   |     |     __|__         |\n",
    "         |     |     |   |        _|_\n",
    "   0.2   |     |     |   |       |   |\n",
    "         |     |     |   |       |   |\n",
    "         -------------------------------\n",
    "                4    3  1        5   2\n",
    "</pre>"
   ]
  },
  {
   "cell_type": "markdown",
   "metadata": {},
   "source": [
    "<pre>For (a) case when we cut the dendrogram to form three clusters, we get three clusters which contain the samples as following:\n",
    "Cluster1; 4\n",
    "Cluster2; 3,1\n",
    "Cluster3; 5,2</pre>"
   ]
  },
  {
   "cell_type": "markdown",
   "metadata": {},
   "source": [
    " <pre>  \n",
    "              _______           \n",
    "   0.4   |   |       |     \n",
    "         |   |     __|_______            \n",
    "   0.35  |   |    |         |     \n",
    "         |<span style=\"color:red\">------------------------</span>  \n",
    "   0.3   |   |    |  _______|_____           \n",
    "         |   |    |  |          _|_\n",
    "   0.2   |   |    |  |         |   |\n",
    "         |   |    |  |         |   |\n",
    "         -------------------------------\n",
    "             3    4   1        5   2\n",
    "\n",
    "\n",
    "\n",
    "\n",
    "\n",
    "\n",
    "\n",
    "</pre>"
   ]
  },
  {
   "cell_type": "markdown",
   "metadata": {},
   "source": [
    "<pre>For (b) case when we cut the dendrogram to form three clusters, we get three clusters which contain the samples as following:\n",
    "Cluster1; 3\n",
    "Cluster2; 4\n",
    "Cluster3; 1,5,2</pre>"
   ]
  },
  {
   "cell_type": "markdown",
   "metadata": {},
   "source": [
    "<h5>Question 4</h5>"
   ]
  },
  {
   "cell_type": "code",
   "execution_count": 1,
   "metadata": {},
   "outputs": [],
   "source": [
    "import numpy as np\n",
    "import pandas as pd\n",
    "from matplotlib import pyplot as plt\n",
    "from sklearn.cluster import AgglomerativeClustering\n",
    "import scipy.cluster.hierarchy as sch\n",
    "from sklearn.preprocessing import StandardScaler"
   ]
  },
  {
   "cell_type": "code",
   "execution_count": 2,
   "metadata": {},
   "outputs": [
    {
     "ename": "FileNotFoundError",
     "evalue": "[Errno 2] File b'college_data.csv' does not exist: b'college_data.csv'",
     "output_type": "error",
     "traceback": [
      "\u001b[0;31m---------------------------------------------------------------------------\u001b[0m",
      "\u001b[0;31mFileNotFoundError\u001b[0m                         Traceback (most recent call last)",
      "\u001b[0;32m<ipython-input-2-7019082768ce>\u001b[0m in \u001b[0;36m<module>\u001b[0;34m\u001b[0m\n\u001b[0;32m----> 1\u001b[0;31m \u001b[0mdata\u001b[0m \u001b[0;34m=\u001b[0m \u001b[0mpd\u001b[0m\u001b[0;34m.\u001b[0m\u001b[0mread_csv\u001b[0m\u001b[0;34m(\u001b[0m\u001b[0;34m\"college_data.csv\"\u001b[0m\u001b[0;34m)\u001b[0m\u001b[0;31m#, sep=',', names=[Early Career','Mid-Career Pay','Total price for in-district students living on campus 2015-16 (DRVIC2015)','professors (S2014_SIS_RV With faculty status tenured)','Associate professors (S2014_SIS_RV With faculty status tenured)','Assistant professors (S2014_SIS_RV With faculty status on tenure track)','Average salary equated to 9 months of full-time instructional staff - professors (DRVHR2014_RV)','Average salary equated to 9 months of full-time instructional staff - associate professors (DRVHR2014_RV)','Average salary equated to 9 months of full-time instructional staff - assistant professors (DRVHR2014_RV)','Percent admitted - men (DRVADM2014_RV)','Percent admitted - women (DRVADM2014_RV','Percent admitted - total (DRVADM2014_RV','Full-time retention rate 2014 (EF2014D_RV)','Student-to-faculty ratio (EF2014D_RV)','Percent of total enrollment that are women (DRVEF2014_RV)','Total enrollment (DRVEF2014_RV)','Graduation rate total cohort (DRVGR2014_RV)','Percent of full-time first-time undergraduates awarded Pell grants (SFA1314_RV)'])\u001b[0m\u001b[0;34m\u001b[0m\u001b[0;34m\u001b[0m\u001b[0m\n\u001b[0m\u001b[1;32m      2\u001b[0m names = ['Early Career Pay', 'Mid-Career Pay','Total price for in-district students living on campus 2015-16 (DRVIC2015)',\n\u001b[1;32m      3\u001b[0m           \u001b[0;34m'Professors (S2014_SIS_RV With faculty status tenured)'\u001b[0m\u001b[0;34m,\u001b[0m\u001b[0;34m'Associate professors (S2014_SIS_RV With facultystatus tenured)'\u001b[0m\u001b[0;34m\u001b[0m\u001b[0;34m\u001b[0m\u001b[0m\n\u001b[1;32m      4\u001b[0m           \u001b[0;34m,\u001b[0m\u001b[0;34m'Assistant professors (S2014_SIS_RV With faculty status ontenure track)'\u001b[0m\u001b[0;34m,\u001b[0m\u001b[0;34m\u001b[0m\u001b[0;34m\u001b[0m\u001b[0m\n\u001b[1;32m      5\u001b[0m           \u001b[0;34m'Average salary equated to 9 months of full-time instructional staff - professors (DRVHR2014_RV)'\u001b[0m\u001b[0;34m,\u001b[0m\u001b[0;34m\u001b[0m\u001b[0;34m\u001b[0m\u001b[0m\n",
      "\u001b[0;32m~/anaconda3/lib/python3.7/site-packages/pandas/io/parsers.py\u001b[0m in \u001b[0;36mparser_f\u001b[0;34m(filepath_or_buffer, sep, delimiter, header, names, index_col, usecols, squeeze, prefix, mangle_dupe_cols, dtype, engine, converters, true_values, false_values, skipinitialspace, skiprows, skipfooter, nrows, na_values, keep_default_na, na_filter, verbose, skip_blank_lines, parse_dates, infer_datetime_format, keep_date_col, date_parser, dayfirst, iterator, chunksize, compression, thousands, decimal, lineterminator, quotechar, quoting, doublequote, escapechar, comment, encoding, dialect, tupleize_cols, error_bad_lines, warn_bad_lines, delim_whitespace, low_memory, memory_map, float_precision)\u001b[0m\n\u001b[1;32m    700\u001b[0m                     skip_blank_lines=skip_blank_lines)\n\u001b[1;32m    701\u001b[0m \u001b[0;34m\u001b[0m\u001b[0m\n\u001b[0;32m--> 702\u001b[0;31m         \u001b[0;32mreturn\u001b[0m \u001b[0m_read\u001b[0m\u001b[0;34m(\u001b[0m\u001b[0mfilepath_or_buffer\u001b[0m\u001b[0;34m,\u001b[0m \u001b[0mkwds\u001b[0m\u001b[0;34m)\u001b[0m\u001b[0;34m\u001b[0m\u001b[0;34m\u001b[0m\u001b[0m\n\u001b[0m\u001b[1;32m    703\u001b[0m \u001b[0;34m\u001b[0m\u001b[0m\n\u001b[1;32m    704\u001b[0m     \u001b[0mparser_f\u001b[0m\u001b[0;34m.\u001b[0m\u001b[0m__name__\u001b[0m \u001b[0;34m=\u001b[0m \u001b[0mname\u001b[0m\u001b[0;34m\u001b[0m\u001b[0;34m\u001b[0m\u001b[0m\n",
      "\u001b[0;32m~/anaconda3/lib/python3.7/site-packages/pandas/io/parsers.py\u001b[0m in \u001b[0;36m_read\u001b[0;34m(filepath_or_buffer, kwds)\u001b[0m\n\u001b[1;32m    427\u001b[0m \u001b[0;34m\u001b[0m\u001b[0m\n\u001b[1;32m    428\u001b[0m     \u001b[0;31m# Create the parser.\u001b[0m\u001b[0;34m\u001b[0m\u001b[0;34m\u001b[0m\u001b[0;34m\u001b[0m\u001b[0m\n\u001b[0;32m--> 429\u001b[0;31m     \u001b[0mparser\u001b[0m \u001b[0;34m=\u001b[0m \u001b[0mTextFileReader\u001b[0m\u001b[0;34m(\u001b[0m\u001b[0mfilepath_or_buffer\u001b[0m\u001b[0;34m,\u001b[0m \u001b[0;34m**\u001b[0m\u001b[0mkwds\u001b[0m\u001b[0;34m)\u001b[0m\u001b[0;34m\u001b[0m\u001b[0;34m\u001b[0m\u001b[0m\n\u001b[0m\u001b[1;32m    430\u001b[0m \u001b[0;34m\u001b[0m\u001b[0m\n\u001b[1;32m    431\u001b[0m     \u001b[0;32mif\u001b[0m \u001b[0mchunksize\u001b[0m \u001b[0;32mor\u001b[0m \u001b[0miterator\u001b[0m\u001b[0;34m:\u001b[0m\u001b[0;34m\u001b[0m\u001b[0;34m\u001b[0m\u001b[0m\n",
      "\u001b[0;32m~/anaconda3/lib/python3.7/site-packages/pandas/io/parsers.py\u001b[0m in \u001b[0;36m__init__\u001b[0;34m(self, f, engine, **kwds)\u001b[0m\n\u001b[1;32m    893\u001b[0m             \u001b[0mself\u001b[0m\u001b[0;34m.\u001b[0m\u001b[0moptions\u001b[0m\u001b[0;34m[\u001b[0m\u001b[0;34m'has_index_names'\u001b[0m\u001b[0;34m]\u001b[0m \u001b[0;34m=\u001b[0m \u001b[0mkwds\u001b[0m\u001b[0;34m[\u001b[0m\u001b[0;34m'has_index_names'\u001b[0m\u001b[0;34m]\u001b[0m\u001b[0;34m\u001b[0m\u001b[0;34m\u001b[0m\u001b[0m\n\u001b[1;32m    894\u001b[0m \u001b[0;34m\u001b[0m\u001b[0m\n\u001b[0;32m--> 895\u001b[0;31m         \u001b[0mself\u001b[0m\u001b[0;34m.\u001b[0m\u001b[0m_make_engine\u001b[0m\u001b[0;34m(\u001b[0m\u001b[0mself\u001b[0m\u001b[0;34m.\u001b[0m\u001b[0mengine\u001b[0m\u001b[0;34m)\u001b[0m\u001b[0;34m\u001b[0m\u001b[0;34m\u001b[0m\u001b[0m\n\u001b[0m\u001b[1;32m    896\u001b[0m \u001b[0;34m\u001b[0m\u001b[0m\n\u001b[1;32m    897\u001b[0m     \u001b[0;32mdef\u001b[0m \u001b[0mclose\u001b[0m\u001b[0;34m(\u001b[0m\u001b[0mself\u001b[0m\u001b[0;34m)\u001b[0m\u001b[0;34m:\u001b[0m\u001b[0;34m\u001b[0m\u001b[0;34m\u001b[0m\u001b[0m\n",
      "\u001b[0;32m~/anaconda3/lib/python3.7/site-packages/pandas/io/parsers.py\u001b[0m in \u001b[0;36m_make_engine\u001b[0;34m(self, engine)\u001b[0m\n\u001b[1;32m   1120\u001b[0m     \u001b[0;32mdef\u001b[0m \u001b[0m_make_engine\u001b[0m\u001b[0;34m(\u001b[0m\u001b[0mself\u001b[0m\u001b[0;34m,\u001b[0m \u001b[0mengine\u001b[0m\u001b[0;34m=\u001b[0m\u001b[0;34m'c'\u001b[0m\u001b[0;34m)\u001b[0m\u001b[0;34m:\u001b[0m\u001b[0;34m\u001b[0m\u001b[0;34m\u001b[0m\u001b[0m\n\u001b[1;32m   1121\u001b[0m         \u001b[0;32mif\u001b[0m \u001b[0mengine\u001b[0m \u001b[0;34m==\u001b[0m \u001b[0;34m'c'\u001b[0m\u001b[0;34m:\u001b[0m\u001b[0;34m\u001b[0m\u001b[0;34m\u001b[0m\u001b[0m\n\u001b[0;32m-> 1122\u001b[0;31m             \u001b[0mself\u001b[0m\u001b[0;34m.\u001b[0m\u001b[0m_engine\u001b[0m \u001b[0;34m=\u001b[0m \u001b[0mCParserWrapper\u001b[0m\u001b[0;34m(\u001b[0m\u001b[0mself\u001b[0m\u001b[0;34m.\u001b[0m\u001b[0mf\u001b[0m\u001b[0;34m,\u001b[0m \u001b[0;34m**\u001b[0m\u001b[0mself\u001b[0m\u001b[0;34m.\u001b[0m\u001b[0moptions\u001b[0m\u001b[0;34m)\u001b[0m\u001b[0;34m\u001b[0m\u001b[0;34m\u001b[0m\u001b[0m\n\u001b[0m\u001b[1;32m   1123\u001b[0m         \u001b[0;32melse\u001b[0m\u001b[0;34m:\u001b[0m\u001b[0;34m\u001b[0m\u001b[0;34m\u001b[0m\u001b[0m\n\u001b[1;32m   1124\u001b[0m             \u001b[0;32mif\u001b[0m \u001b[0mengine\u001b[0m \u001b[0;34m==\u001b[0m \u001b[0;34m'python'\u001b[0m\u001b[0;34m:\u001b[0m\u001b[0;34m\u001b[0m\u001b[0;34m\u001b[0m\u001b[0m\n",
      "\u001b[0;32m~/anaconda3/lib/python3.7/site-packages/pandas/io/parsers.py\u001b[0m in \u001b[0;36m__init__\u001b[0;34m(self, src, **kwds)\u001b[0m\n\u001b[1;32m   1851\u001b[0m         \u001b[0mkwds\u001b[0m\u001b[0;34m[\u001b[0m\u001b[0;34m'usecols'\u001b[0m\u001b[0;34m]\u001b[0m \u001b[0;34m=\u001b[0m \u001b[0mself\u001b[0m\u001b[0;34m.\u001b[0m\u001b[0musecols\u001b[0m\u001b[0;34m\u001b[0m\u001b[0;34m\u001b[0m\u001b[0m\n\u001b[1;32m   1852\u001b[0m \u001b[0;34m\u001b[0m\u001b[0m\n\u001b[0;32m-> 1853\u001b[0;31m         \u001b[0mself\u001b[0m\u001b[0;34m.\u001b[0m\u001b[0m_reader\u001b[0m \u001b[0;34m=\u001b[0m \u001b[0mparsers\u001b[0m\u001b[0;34m.\u001b[0m\u001b[0mTextReader\u001b[0m\u001b[0;34m(\u001b[0m\u001b[0msrc\u001b[0m\u001b[0;34m,\u001b[0m \u001b[0;34m**\u001b[0m\u001b[0mkwds\u001b[0m\u001b[0;34m)\u001b[0m\u001b[0;34m\u001b[0m\u001b[0;34m\u001b[0m\u001b[0m\n\u001b[0m\u001b[1;32m   1854\u001b[0m         \u001b[0mself\u001b[0m\u001b[0;34m.\u001b[0m\u001b[0munnamed_cols\u001b[0m \u001b[0;34m=\u001b[0m \u001b[0mself\u001b[0m\u001b[0;34m.\u001b[0m\u001b[0m_reader\u001b[0m\u001b[0;34m.\u001b[0m\u001b[0munnamed_cols\u001b[0m\u001b[0;34m\u001b[0m\u001b[0;34m\u001b[0m\u001b[0m\n\u001b[1;32m   1855\u001b[0m \u001b[0;34m\u001b[0m\u001b[0m\n",
      "\u001b[0;32mpandas/_libs/parsers.pyx\u001b[0m in \u001b[0;36mpandas._libs.parsers.TextReader.__cinit__\u001b[0;34m()\u001b[0m\n",
      "\u001b[0;32mpandas/_libs/parsers.pyx\u001b[0m in \u001b[0;36mpandas._libs.parsers.TextReader._setup_parser_source\u001b[0;34m()\u001b[0m\n",
      "\u001b[0;31mFileNotFoundError\u001b[0m: [Errno 2] File b'college_data.csv' does not exist: b'college_data.csv'"
     ]
    }
   ],
   "source": [
    "data = pd.read_csv(\"college_data.csv\")#, sep=',', names=[Early Career','Mid-Career Pay','Total price for in-district students living on campus 2015-16 (DRVIC2015)','professors (S2014_SIS_RV With faculty status tenured)','Associate professors (S2014_SIS_RV With faculty status tenured)','Assistant professors (S2014_SIS_RV With faculty status on tenure track)','Average salary equated to 9 months of full-time instructional staff - professors (DRVHR2014_RV)','Average salary equated to 9 months of full-time instructional staff - associate professors (DRVHR2014_RV)','Average salary equated to 9 months of full-time instructional staff - assistant professors (DRVHR2014_RV)','Percent admitted - men (DRVADM2014_RV)','Percent admitted - women (DRVADM2014_RV','Percent admitted - total (DRVADM2014_RV','Full-time retention rate 2014 (EF2014D_RV)','Student-to-faculty ratio (EF2014D_RV)','Percent of total enrollment that are women (DRVEF2014_RV)','Total enrollment (DRVEF2014_RV)','Graduation rate total cohort (DRVGR2014_RV)','Percent of full-time first-time undergraduates awarded Pell grants (SFA1314_RV)'])\n",
    "names = ['Early Career Pay', 'Mid-Career Pay','Total price for in-district students living on campus 2015-16 (DRVIC2015)',\n",
    "          'Professors (S2014_SIS_RV With faculty status tenured)','Associate professors (S2014_SIS_RV With facultystatus tenured)'\n",
    "          ,'Assistant professors (S2014_SIS_RV With faculty status ontenure track)',\n",
    "          'Average salary equated to 9 months of full-time instructional staff - professors (DRVHR2014_RV)',\n",
    "          'Average salary equated to 9 months of full-time instructional staff - associate professors (DRVHR2014_RV)',\n",
    "          'Average salary equated to 9 months of full-time instructional staff - assistant professor s (DRVHR2014_RV)'\n",
    "          ,'Percent admitted - men (DRVADM2014_RV)','Percent admitted -women (DRVADM2014_RV)'\n",
    "          ,'Percent admitted - total (DRVADM2014_RV)','Full-time retention rate 2014 (EF2014D_RV)',\n",
    "          'Student-to-faculty ratio (EF2014D_RV)','Percent of total enrollment that are women (DRVEF2014_RV)',\n",
    "          'Total enrollment (DRVEF2014_RV)','Graduation rate total cohort (DRVGR2014_RV)',\n",
    "          'Percent of full-time first-time undergraduates awarded Pell grants (SFA1314_RV)']"
   ]
  },
  {
   "cell_type": "code",
   "execution_count": null,
   "metadata": {},
   "outputs": [],
   "source": [
    "x= data.iloc[:,1]\n",
    "y= data.iloc[:,3:21]\n",
    "#scaling the data y\n",
    "Y=StandardScaler().fit_transform(y)\n",
    "from scipy.spatial import distance_matrix\n",
    "from scipy.spatial.distance import pdist, squareform\n",
    "d = pd.DataFrame(Y, columns=names)\n",
    "k = pd.DataFrame(squareform(pdist(d)),index = x) #dissimilarity matrix\n",
    "k.head()"
   ]
  },
  {
   "cell_type": "markdown",
   "metadata": {},
   "source": [
    "# 4(a)"
   ]
  },
  {
   "cell_type": "code",
   "execution_count": 128,
   "metadata": {},
   "outputs": [
    {
     "name": "stderr",
     "output_type": "stream",
     "text": [
      "C:\\Users\\Hp\\Anaconda3\\lib\\site-packages\\ipykernel_launcher.py:6: ClusterWarning: scipy.cluster: The symmetric non-negative hollow observation matrix looks suspiciously like an uncondensed distance matrix\n",
      "  \n"
     ]
    },
    {
     "data": {
      "image/png": "[encoded data removed]",
      "text/plain": [
       "<Figure size 720x360 with 1 Axes>"
      ]
     },
     "metadata": {
      "needs_background": "light"
     },
     "output_type": "display_data"
    }
   ],
   "source": [
    "# dendrogram for the agglomerative hierachial clustering with complete linkage for the college data\n",
    "plt.figure(figsize=(10,5))\n",
    "plt.suptitle(\"Agglomerative Hierarchical Clustering with Complete Linkage\", fontsize=18)\n",
    "plt.xlabel(\"Samples\")\n",
    "plt.ylabel(\"Heights\")\n",
    "dendrogram = sch.dendrogram(sch.linkage(k, method='complete'))"
   ]
  },
  {
   "cell_type": "code",
   "execution_count": 129,
   "metadata": {},
   "outputs": [
    {
     "name": "stderr",
     "output_type": "stream",
     "text": [
      "C:\\Users\\Hp\\Anaconda3\\lib\\site-packages\\sklearn\\cluster\\hierarchical.py:463: ClusterWarning: scipy.cluster: The symmetric non-negative hollow observation matrix looks suspiciously like an uncondensed distance matrix\n",
      "  out = hierarchy.linkage(X, method=linkage, metric=affinity)\n"
     ]
    },
    {
     "data": {
      "text/plain": [
       "array([0, 1, 1, 0, 2, 1, 2, 1, 1, 0, 2, 1, 1, 2, 0, 0, 0, 0, 0, 0, 0],\n",
       "      dtype=int64)"
      ]
     },
     "execution_count": 129,
     "metadata": {},
     "output_type": "execute_result"
    }
   ],
   "source": [
    "c = AgglomerativeClustering(n_clusters=3, affinity='euclidean', linkage='complete')\n",
    "c.fit_predict(k)"
   ]
  },
  {
   "cell_type": "markdown",
   "metadata": {},
   "source": [
    "#  4(b)"
   ]
  },
  {
   "cell_type": "code",
   "execution_count": 130,
   "metadata": {},
   "outputs": [],
   "source": [
    "#dropping some universities as in the question\n",
    "T=k.drop(['California State University-Chico','Columbia University in the City of New York','Northwestern University','San Francisco State University','University of California-Berkeley','University of California-Davis','University of California-Santa Barbara'\n",
    ",'Worcester Polytechnic Institute'])"
   ]
  },
  {
   "cell_type": "code",
   "execution_count": 131,
   "metadata": {},
   "outputs": [
    {
     "data": {
      "image/png": "[encoded data removed]",
      "text/plain": [
       "<Figure size 720x360 with 1 Axes>"
      ]
     },
     "metadata": {
      "needs_background": "light"
     },
     "output_type": "display_data"
    }
   ],
   "source": [
    "#dendrogram for the data above with complete linkage\n",
    "plt.figure(figsize=(10,5))\n",
    "plt.suptitle(\"Agglomerative Hierarchical Clustering with Complete Linkage excluding specified schools\", fontsize=18)\n",
    "plt.xlabel(\"Samples\")\n",
    "plt.ylabel(\"Heights\")\n",
    "dendrogram = sch.dendrogram(sch.linkage(T, method='complete'))"
   ]
  },
  {
   "cell_type": "code",
   "execution_count": 132,
   "metadata": {},
   "outputs": [
    {
     "data": {
      "text/plain": [
       "array([0, 1, 2, 1, 2, 1, 1, 0, 1, 2, 0, 0, 0], dtype=int64)"
      ]
     },
     "execution_count": 132,
     "metadata": {},
     "output_type": "execute_result"
    }
   ],
   "source": [
    "c1 = AgglomerativeClustering(n_clusters=3, affinity='euclidean', linkage='complete')\n",
    "c1.fit_predict(T)"
   ]
  },
  {
   "cell_type": "code",
   "execution_count": 133,
   "metadata": {},
   "outputs": [
    {
     "data": {
      "image/png": "[encoded data removed]",
      "text/plain": [
       "<Figure size 720x360 with 1 Axes>"
      ]
     },
     "metadata": {
      "needs_background": "light"
     },
     "output_type": "display_data"
    }
   ],
   "source": [
    "#denrogram for the above data T with average linkage\n",
    "plt.figure(figsize=(10,5))\n",
    "plt.suptitle(\"Agglomerative Hierarchical Clustering with Average Linkage excluding specified schools\", fontsize=18)\n",
    "plt.xlabel(\"Samples\")\n",
    "plt.ylabel(\"Heights\")\n",
    "dendrogram = sch.dendrogram(sch.linkage(T, method='average'))"
   ]
  },
  {
   "cell_type": "code",
   "execution_count": 134,
   "metadata": {},
   "outputs": [
    {
     "data": {
      "text/plain": [
       "array([0, 0, 1, 0, 1, 0, 0, 2, 0, 1, 0, 0, 2], dtype=int64)"
      ]
     },
     "execution_count": 134,
     "metadata": {},
     "output_type": "execute_result"
    }
   ],
   "source": [
    "#agglomerative clustering with average linkage exlcuding the specified schools\n",
    "c2 = AgglomerativeClustering(n_clusters=3, affinity='euclidean', linkage='average')\n",
    "c2.fit_predict(T)"
   ]
  },
  {
   "cell_type": "markdown",
   "metadata": {},
   "source": [
    "# 4(c)"
   ]
  },
  {
   "cell_type": "code",
   "execution_count": 135,
   "metadata": {},
   "outputs": [
    {
     "data": {
      "image/png": "[encoded data removed]",
      "text/plain": [
       "<Figure size 720x360 with 1 Axes>"
      ]
     },
     "metadata": {
      "needs_background": "light"
     },
     "output_type": "display_data"
    }
   ],
   "source": [
    "#dendogram for the above data T with single linkage\n",
    "plt.figure(figsize=(10,5))\n",
    "plt.suptitle(\"Agglomerative Hierarchical Clustering with Single Linkage excluding specified schools\", fontsize=18)\n",
    "plt.xlabel(\"Samples\")\n",
    "plt.ylabel(\"Heights\")\n",
    "dendrogram = sch.dendrogram(sch.linkage(T, method='single'))"
   ]
  },
  {
   "cell_type": "code",
   "execution_count": 136,
   "metadata": {},
   "outputs": [
    {
     "data": {
      "text/plain": [
       "array([2, 2, 0, 2, 0, 2, 2, 1, 2, 0, 2, 2, 1], dtype=int64)"
      ]
     },
     "execution_count": 136,
     "metadata": {},
     "output_type": "execute_result"
    }
   ],
   "source": [
    "model = AgglomerativeClustering(n_clusters=3, affinity= 'euclidean',linkage = 'single')\n",
    "model.fit(T)\n",
    "labels= model.labels_\n",
    "labels"
   ]
  },
  {
   "cell_type": "markdown",
   "metadata": {},
   "source": [
    "(d)"
   ]
  },
  {
   "cell_type": "code",
   "execution_count": 137,
   "metadata": {},
   "outputs": [
    {
     "data": {
      "text/plain": [
       "array([2, 0, 1, 0, 1, 0, 0, 1, 0, 1, 2, 2, 2])"
      ]
     },
     "execution_count": 137,
     "metadata": {},
     "output_type": "execute_result"
    }
   ],
   "source": [
    "#K means clustering for data T\n",
    "from sklearn.cluster import KMeans\n",
    "Tk= KMeans(n_clusters=3)\n",
    "KM=Tk.fit_predict(T)\n",
    "KM"
   ]
  },
  {
   "cell_type": "code",
   "execution_count": 138,
   "metadata": {},
   "outputs": [
    {
     "data": {
      "text/html": [
       "<div>\n",
       "<style scoped>\n",
       "    .dataframe tbody tr th:only-of-type {\n",
       "        vertical-align: middle;\n",
       "    }\n",
       "\n",
       "    .dataframe tbody tr th {\n",
       "        vertical-align: top;\n",
       "    }\n",
       "\n",
       "    .dataframe thead th {\n",
       "        text-align: right;\n",
       "    }\n",
       "</style>\n",
       "<table border=\"1\" class=\"dataframe\">\n",
       "  <thead>\n",
       "    <tr style=\"text-align: right;\">\n",
       "      <th></th>\n",
       "      <th>Kmeans</th>\n",
       "      <th>agglomerative</th>\n",
       "    </tr>\n",
       "  </thead>\n",
       "  <tbody>\n",
       "    <tr>\n",
       "      <td>0</td>\n",
       "      <td>2</td>\n",
       "      <td>2</td>\n",
       "    </tr>\n",
       "    <tr>\n",
       "      <td>1</td>\n",
       "      <td>0</td>\n",
       "      <td>2</td>\n",
       "    </tr>\n",
       "    <tr>\n",
       "      <td>2</td>\n",
       "      <td>1</td>\n",
       "      <td>0</td>\n",
       "    </tr>\n",
       "    <tr>\n",
       "      <td>3</td>\n",
       "      <td>0</td>\n",
       "      <td>2</td>\n",
       "    </tr>\n",
       "    <tr>\n",
       "      <td>4</td>\n",
       "      <td>1</td>\n",
       "      <td>0</td>\n",
       "    </tr>\n",
       "    <tr>\n",
       "      <td>5</td>\n",
       "      <td>0</td>\n",
       "      <td>2</td>\n",
       "    </tr>\n",
       "    <tr>\n",
       "      <td>6</td>\n",
       "      <td>0</td>\n",
       "      <td>2</td>\n",
       "    </tr>\n",
       "    <tr>\n",
       "      <td>7</td>\n",
       "      <td>1</td>\n",
       "      <td>1</td>\n",
       "    </tr>\n",
       "    <tr>\n",
       "      <td>8</td>\n",
       "      <td>0</td>\n",
       "      <td>2</td>\n",
       "    </tr>\n",
       "    <tr>\n",
       "      <td>9</td>\n",
       "      <td>1</td>\n",
       "      <td>0</td>\n",
       "    </tr>\n",
       "    <tr>\n",
       "      <td>10</td>\n",
       "      <td>2</td>\n",
       "      <td>2</td>\n",
       "    </tr>\n",
       "    <tr>\n",
       "      <td>11</td>\n",
       "      <td>2</td>\n",
       "      <td>2</td>\n",
       "    </tr>\n",
       "    <tr>\n",
       "      <td>12</td>\n",
       "      <td>2</td>\n",
       "      <td>1</td>\n",
       "    </tr>\n",
       "  </tbody>\n",
       "</table>\n",
       "</div>"
      ],
      "text/plain": [
       "    Kmeans  agglomerative\n",
       "0        2              2\n",
       "1        0              2\n",
       "2        1              0\n",
       "3        0              2\n",
       "4        1              0\n",
       "5        0              2\n",
       "6        0              2\n",
       "7        1              1\n",
       "8        0              2\n",
       "9        1              0\n",
       "10       2              2\n",
       "11       2              2\n",
       "12       2              1"
      ]
     },
     "execution_count": 138,
     "metadata": {},
     "output_type": "execute_result"
    }
   ],
   "source": [
    "#comparing Kmeans clusters with agglomerative hierachial clustering\n",
    "Y = pd.DataFrame({'Kmeans': KM, 'agglomerative' : labels})\n",
    "Y"
   ]
  },
  {
   "cell_type": "markdown",
   "metadata": {},
   "source": [
    "(e)"
   ]
  },
  {
   "cell_type": "code",
   "execution_count": 139,
   "metadata": {},
   "outputs": [
    {
     "data": {
      "text/plain": [
       "array([1, 2, 1, 2, 1, 2, 2, 0, 2, 1, 1, 2, 0], dtype=int64)"
      ]
     },
     "execution_count": 139,
     "metadata": {},
     "output_type": "execute_result"
    }
   ],
   "source": [
    "#KMedoids clustering for data T\n",
    "from sklearn_extra.cluster import KMedoids\n",
    "kmd = KMedoids(n_clusters=3, random_state=0).fit(T)\n",
    "KMD = kmd.labels_\n",
    "KMD"
   ]
  },
  {
   "cell_type": "code",
   "execution_count": 140,
   "metadata": {},
   "outputs": [
    {
     "data": {
      "text/html": [
       "<div>\n",
       "<style scoped>\n",
       "    .dataframe tbody tr th:only-of-type {\n",
       "        vertical-align: middle;\n",
       "    }\n",
       "\n",
       "    .dataframe tbody tr th {\n",
       "        vertical-align: top;\n",
       "    }\n",
       "\n",
       "    .dataframe thead th {\n",
       "        text-align: right;\n",
       "    }\n",
       "</style>\n",
       "<table border=\"1\" class=\"dataframe\">\n",
       "  <thead>\n",
       "    <tr style=\"text-align: right;\">\n",
       "      <th></th>\n",
       "      <th>KMediods</th>\n",
       "      <th>agglomerative</th>\n",
       "    </tr>\n",
       "  </thead>\n",
       "  <tbody>\n",
       "    <tr>\n",
       "      <td>0</td>\n",
       "      <td>1</td>\n",
       "      <td>2</td>\n",
       "    </tr>\n",
       "    <tr>\n",
       "      <td>1</td>\n",
       "      <td>2</td>\n",
       "      <td>2</td>\n",
       "    </tr>\n",
       "    <tr>\n",
       "      <td>2</td>\n",
       "      <td>1</td>\n",
       "      <td>0</td>\n",
       "    </tr>\n",
       "    <tr>\n",
       "      <td>3</td>\n",
       "      <td>2</td>\n",
       "      <td>2</td>\n",
       "    </tr>\n",
       "    <tr>\n",
       "      <td>4</td>\n",
       "      <td>1</td>\n",
       "      <td>0</td>\n",
       "    </tr>\n",
       "    <tr>\n",
       "      <td>5</td>\n",
       "      <td>2</td>\n",
       "      <td>2</td>\n",
       "    </tr>\n",
       "    <tr>\n",
       "      <td>6</td>\n",
       "      <td>2</td>\n",
       "      <td>2</td>\n",
       "    </tr>\n",
       "    <tr>\n",
       "      <td>7</td>\n",
       "      <td>0</td>\n",
       "      <td>1</td>\n",
       "    </tr>\n",
       "    <tr>\n",
       "      <td>8</td>\n",
       "      <td>2</td>\n",
       "      <td>2</td>\n",
       "    </tr>\n",
       "    <tr>\n",
       "      <td>9</td>\n",
       "      <td>1</td>\n",
       "      <td>0</td>\n",
       "    </tr>\n",
       "    <tr>\n",
       "      <td>10</td>\n",
       "      <td>1</td>\n",
       "      <td>2</td>\n",
       "    </tr>\n",
       "    <tr>\n",
       "      <td>11</td>\n",
       "      <td>2</td>\n",
       "      <td>2</td>\n",
       "    </tr>\n",
       "    <tr>\n",
       "      <td>12</td>\n",
       "      <td>0</td>\n",
       "      <td>1</td>\n",
       "    </tr>\n",
       "  </tbody>\n",
       "</table>\n",
       "</div>"
      ],
      "text/plain": [
       "    KMediods  agglomerative\n",
       "0          1              2\n",
       "1          2              2\n",
       "2          1              0\n",
       "3          2              2\n",
       "4          1              0\n",
       "5          2              2\n",
       "6          2              2\n",
       "7          0              1\n",
       "8          2              2\n",
       "9          1              0\n",
       "10         1              2\n",
       "11         2              2\n",
       "12         0              1"
      ]
     },
     "execution_count": 140,
     "metadata": {},
     "output_type": "execute_result"
    }
   ],
   "source": [
    "#comparing KMediods with agglomerative clustering\n",
    "H = pd.DataFrame({'KMediods' : KMD, 'agglomerative' : labels })\n",
    "H"
   ]
  },
  {
   "cell_type": "markdown",
   "metadata": {},
   "source": [
    "<h5>Question 5</h5>"
   ]
  },
  {
   "cell_type": "code",
   "execution_count": 141,
   "metadata": {},
   "outputs": [],
   "source": [
    "import pandas as pd\n",
    "import numpy as np\n",
    "import matplotlib as mpl\n",
    "import matplotlib.pyplot as plt\n",
    "import seaborn as sb\n",
    "import csv\n",
    "from sklearn import cluster\n",
    "from sklearn import metrics\n",
    "from scipy.cluster.hierarchy import dendrogram\n",
    "from scipy.cluster import hierarchy\n",
    "from scipy.stats import zscore\n",
    "%matplotlib inline"
   ]
  },
  {
   "cell_type": "code",
   "execution_count": 142,
   "metadata": {},
   "outputs": [],
   "source": [
    "#import music data\n",
    "colNames = ['Song', 'Artist', 'Type', 'LVar', 'LAve', 'LMax', 'LFEner', 'LFreq']\n",
    "mydata = pd.read_csv(\"music2.csv\", header = 0, names=colNames)"
   ]
  },
  {
   "cell_type": "code",
   "execution_count": 143,
   "metadata": {},
   "outputs": [
    {
     "data": {
      "text/html": [
       "<div>\n",
       "<style scoped>\n",
       "    .dataframe tbody tr th:only-of-type {\n",
       "        vertical-align: middle;\n",
       "    }\n",
       "\n",
       "    .dataframe tbody tr th {\n",
       "        vertical-align: top;\n",
       "    }\n",
       "\n",
       "    .dataframe thead th {\n",
       "        text-align: right;\n",
       "    }\n",
       "</style>\n",
       "<table border=\"1\" class=\"dataframe\">\n",
       "  <thead>\n",
       "    <tr style=\"text-align: right;\">\n",
       "      <th></th>\n",
       "      <th>LVar</th>\n",
       "      <th>LAve</th>\n",
       "      <th>LMax</th>\n",
       "      <th>LFEner</th>\n",
       "      <th>LFreq</th>\n",
       "    </tr>\n",
       "  </thead>\n",
       "  <tbody>\n",
       "    <tr>\n",
       "      <td>0</td>\n",
       "      <td>17600755.6</td>\n",
       "      <td>-90.006867</td>\n",
       "      <td>29921</td>\n",
       "      <td>105.92095</td>\n",
       "      <td>59.57379</td>\n",
       "    </tr>\n",
       "    <tr>\n",
       "      <td>1</td>\n",
       "      <td>9543020.9</td>\n",
       "      <td>-75.766719</td>\n",
       "      <td>27626</td>\n",
       "      <td>102.83616</td>\n",
       "      <td>58.48031</td>\n",
       "    </tr>\n",
       "    <tr>\n",
       "      <td>2</td>\n",
       "      <td>9049481.5</td>\n",
       "      <td>-98.062924</td>\n",
       "      <td>26372</td>\n",
       "      <td>102.32488</td>\n",
       "      <td>124.59397</td>\n",
       "    </tr>\n",
       "    <tr>\n",
       "      <td>3</td>\n",
       "      <td>7557437.3</td>\n",
       "      <td>-90.471062</td>\n",
       "      <td>28898</td>\n",
       "      <td>101.61648</td>\n",
       "      <td>48.76513</td>\n",
       "    </tr>\n",
       "    <tr>\n",
       "      <td>4</td>\n",
       "      <td>6282285.6</td>\n",
       "      <td>-88.952631</td>\n",
       "      <td>27940</td>\n",
       "      <td>100.30076</td>\n",
       "      <td>74.02039</td>\n",
       "    </tr>\n",
       "  </tbody>\n",
       "</table>\n",
       "</div>"
      ],
      "text/plain": [
       "         LVar       LAve   LMax     LFEner      LFreq\n",
       "0  17600755.6 -90.006867  29921  105.92095   59.57379\n",
       "1   9543020.9 -75.766719  27626  102.83616   58.48031\n",
       "2   9049481.5 -98.062924  26372  102.32488  124.59397\n",
       "3   7557437.3 -90.471062  28898  101.61648   48.76513\n",
       "4   6282285.6 -88.952631  27940  100.30076   74.02039"
      ]
     },
     "execution_count": 143,
     "metadata": {},
     "output_type": "execute_result"
    }
   ],
   "source": [
    "#pull numeric data\n",
    "mydatanumeric = mydata[['LVar', 'LAve', 'LMax', 'LFEner', 'LFreq']].copy()\n",
    "mydatanumeric.head()"
   ]
  },
  {
   "cell_type": "code",
   "execution_count": 144,
   "metadata": {},
   "outputs": [
    {
     "data": {
      "text/html": [
       "<div>\n",
       "<style scoped>\n",
       "    .dataframe tbody tr th:only-of-type {\n",
       "        vertical-align: middle;\n",
       "    }\n",
       "\n",
       "    .dataframe tbody tr th {\n",
       "        vertical-align: top;\n",
       "    }\n",
       "\n",
       "    .dataframe thead th {\n",
       "        text-align: right;\n",
       "    }\n",
       "</style>\n",
       "<table border=\"1\" class=\"dataframe\">\n",
       "  <thead>\n",
       "    <tr style=\"text-align: right;\">\n",
       "      <th></th>\n",
       "      <th>LVar</th>\n",
       "      <th>LAve</th>\n",
       "      <th>LMax</th>\n",
       "      <th>LFEner</th>\n",
       "      <th>LFreq</th>\n",
       "    </tr>\n",
       "  </thead>\n",
       "  <tbody>\n",
       "    <tr>\n",
       "      <td>0</td>\n",
       "      <td>-0.089691</td>\n",
       "      <td>-1.755138</td>\n",
       "      <td>0.855543</td>\n",
       "      <td>0.347808</td>\n",
       "      <td>-0.980360</td>\n",
       "    </tr>\n",
       "    <tr>\n",
       "      <td>1</td>\n",
       "      <td>-0.397089</td>\n",
       "      <td>-1.451080</td>\n",
       "      <td>0.591458</td>\n",
       "      <td>-0.219448</td>\n",
       "      <td>-0.986599</td>\n",
       "    </tr>\n",
       "    <tr>\n",
       "      <td>2</td>\n",
       "      <td>-0.415917</td>\n",
       "      <td>-1.927153</td>\n",
       "      <td>0.447161</td>\n",
       "      <td>-0.313467</td>\n",
       "      <td>-0.609373</td>\n",
       "    </tr>\n",
       "    <tr>\n",
       "      <td>3</td>\n",
       "      <td>-0.472838</td>\n",
       "      <td>-1.765050</td>\n",
       "      <td>0.737827</td>\n",
       "      <td>-0.443733</td>\n",
       "      <td>-1.042032</td>\n",
       "    </tr>\n",
       "    <tr>\n",
       "      <td>4</td>\n",
       "      <td>-0.521484</td>\n",
       "      <td>-1.732628</td>\n",
       "      <td>0.627590</td>\n",
       "      <td>-0.685678</td>\n",
       "      <td>-0.897932</td>\n",
       "    </tr>\n",
       "  </tbody>\n",
       "</table>\n",
       "</div>"
      ],
      "text/plain": [
       "       LVar      LAve      LMax    LFEner     LFreq\n",
       "0 -0.089691 -1.755138  0.855543  0.347808 -0.980360\n",
       "1 -0.397089 -1.451080  0.591458 -0.219448 -0.986599\n",
       "2 -0.415917 -1.927153  0.447161 -0.313467 -0.609373\n",
       "3 -0.472838 -1.765050  0.737827 -0.443733 -1.042032\n",
       "4 -0.521484 -1.732628  0.627590 -0.685678 -0.897932"
      ]
     },
     "execution_count": 144,
     "metadata": {},
     "output_type": "execute_result"
    }
   ],
   "source": [
    "#standardize data\n",
    "standardized = zscore(mydatanumeric);\n",
    "mydatastandardized = pd.DataFrame({'LVar': standardized[:, 0], 'LAve': standardized[:, 1],\n",
    "                                   'LMax': standardized[:, 2], 'LFEner': standardized[:, 3],\n",
    "                                   'LFreq': standardized[:,4]})\n",
    "mydatastandardized.head()"
   ]
  },
  {
   "cell_type": "markdown",
   "metadata": {},
   "source": [
    "## Single Linkage and Type Label"
   ]
  },
  {
   "cell_type": "code",
   "execution_count": 145,
   "metadata": {},
   "outputs": [
    {
     "name": "stderr",
     "output_type": "stream",
     "text": [
      "C:\\Users\\Hp\\Anaconda3\\lib\\site-packages\\ipykernel_launcher.py:8: ClusterWarning: scipy.cluster: The symmetric non-negative hollow observation matrix looks suspiciously like an uncondensed distance matrix\n",
      "  \n"
     ]
    },
    {
     "data": {
      "image/png": "[encoded data removed]",
      "text/plain": [
       "<Figure size 1080x720 with 1 Axes>"
      ]
     },
     "metadata": {
      "needs_background": "light"
     },
     "output_type": "display_data"
    }
   ],
   "source": [
    "#get distance matrix\n",
    "dis1 = metrics.pairwise.euclidean_distances(mydatastandardized,mydatastandardized)\n",
    "\n",
    "#generate labels\n",
    "labels = np.asarray(mydata[['Type']]);\n",
    "\n",
    "#build dendrogram\n",
    "Z = hierarchy.linkage(dis1, 'single')\n",
    "plt.figure(figsize=(15,10))\n",
    "plt.suptitle(\"Single Linkage and Type Label (Music)\", fontsize=18)\n",
    "plt.xlabel(\"Samples\")\n",
    "plt.ylabel(\"Heights\")\n",
    "dn = hierarchy.dendrogram(Z, labels=labels, leaf_font_size=11)"
   ]
  },
  {
   "cell_type": "markdown",
   "metadata": {},
   "source": [
    "## Complete Linkage and Type Labels"
   ]
  },
  {
   "cell_type": "code",
   "execution_count": 146,
   "metadata": {
    "scrolled": false
   },
   "outputs": [
    {
     "name": "stderr",
     "output_type": "stream",
     "text": [
      "C:\\Users\\Hp\\Anaconda3\\lib\\site-packages\\ipykernel_launcher.py:8: ClusterWarning: scipy.cluster: The symmetric non-negative hollow observation matrix looks suspiciously like an uncondensed distance matrix\n",
      "  \n"
     ]
    },
    {
     "data": {
      "image/png": "[encoded data removed]",
      "text/plain": [
       "<Figure size 1080x720 with 1 Axes>"
      ]
     },
     "metadata": {
      "needs_background": "light"
     },
     "output_type": "display_data"
    }
   ],
   "source": [
    "#get distance matrix\n",
    "dis1 = metrics.pairwise.euclidean_distances(mydatastandardized,mydatastandardized)\n",
    "\n",
    "#generate labels\n",
    "labels = np.asarray(mydata[['Type']]);\n",
    "\n",
    "#build dendrogram\n",
    "Z = hierarchy.linkage(dis1, 'complete')\n",
    "plt.figure(figsize=(15,10))\n",
    "plt.suptitle(\"Complete Linkage and Type Label (Music)\", fontsize=18)\n",
    "plt.xlabel(\"Samples\")\n",
    "plt.ylabel(\"Heights\")\n",
    "dn = hierarchy.dendrogram(Z, labels=labels, leaf_font_size=11)"
   ]
  },
  {
   "cell_type": "markdown",
   "metadata": {},
   "source": [
    "## Single Linkage Artist Label"
   ]
  },
  {
   "cell_type": "code",
   "execution_count": 147,
   "metadata": {},
   "outputs": [
    {
     "name": "stderr",
     "output_type": "stream",
     "text": [
      "C:\\Users\\Hp\\Anaconda3\\lib\\site-packages\\ipykernel_launcher.py:8: ClusterWarning: scipy.cluster: The symmetric non-negative hollow observation matrix looks suspiciously like an uncondensed distance matrix\n",
      "  \n"
     ]
    },
    {
     "data": {
      "image/png": "[encoded data removed]",
      "text/plain": [
       "<Figure size 1080x720 with 1 Axes>"
      ]
     },
     "metadata": {
      "needs_background": "light"
     },
     "output_type": "display_data"
    }
   ],
   "source": [
    "#get distance matrix\n",
    "dis1 = metrics.pairwise.euclidean_distances(mydatastandardized,mydatastandardized)\n",
    "\n",
    "#generate labels\n",
    "labels = np.asarray(mydata[['Artist']]);\n",
    "\n",
    "#build dendrogram\n",
    "Z = hierarchy.linkage(dis1, 'single')\n",
    "plt.figure(figsize=(15,10))\n",
    "plt.suptitle(\"Single Linkage and Artist Label (Music)\", fontsize=18)\n",
    "plt.xlabel(\"Samples\")\n",
    "plt.ylabel(\"Heights\")\n",
    "dn = hierarchy.dendrogram(Z, labels=labels, leaf_font_size=11)"
   ]
  },
  {
   "cell_type": "markdown",
   "metadata": {},
   "source": [
    "## Complete Linkage Artist Label"
   ]
  },
  {
   "cell_type": "code",
   "execution_count": 148,
   "metadata": {},
   "outputs": [
    {
     "name": "stderr",
     "output_type": "stream",
     "text": [
      "C:\\Users\\Hp\\Anaconda3\\lib\\site-packages\\ipykernel_launcher.py:8: ClusterWarning: scipy.cluster: The symmetric non-negative hollow observation matrix looks suspiciously like an uncondensed distance matrix\n",
      "  \n"
     ]
    },
    {
     "data": {
      "image/png": "[encoded data removed]",
      "text/plain": [
       "<Figure size 1080x720 with 1 Axes>"
      ]
     },
     "metadata": {
      "needs_background": "light"
     },
     "output_type": "display_data"
    }
   ],
   "source": [
    "#get distance matrix\n",
    "dis1 = metrics.pairwise.euclidean_distances(mydatastandardized,mydatastandardized)\n",
    "\n",
    "#generate labels\n",
    "labels = np.asarray(mydata[['Artist']]);\n",
    "\n",
    "#build dendrogram\n",
    "Z = hierarchy.linkage(dis1, 'complete')\n",
    "plt.figure(figsize=(15,10))\n",
    "plt.suptitle(\"Complete Linkage and Artist Label (Music)\", fontsize=18)\n",
    "plt.xlabel(\"Samples\")\n",
    "plt.ylabel(\"Heights\")\n",
    "dn = hierarchy.dendrogram(Z, labels=labels, leaf_font_size = 11)"
   ]
  },
  {
   "cell_type": "markdown",
   "metadata": {},
   "source": [
    "## Analysis"
   ]
  },
  {
   "cell_type": "markdown",
   "metadata": {},
   "source": [
    "By comparing how well each of the four methods grouped together like songs, by either type or artist, the Complete Linkage with Type labels seems to be the most useful. This is because it does the best job of grouping like songs together by type, which would result in an expected outcome that could prove more useful than the others which may appear to have more random clustering."
   ]
  }
 ],
 "metadata": {
  "kernelspec": {
   "display_name": "Python 3",
   "language": "python",
   "name": "python3"
  },
  "language_info": {
   "codemirror_mode": {
    "name": "ipython",
    "version": 3
   },
   "file_extension": ".py",
   "mimetype": "text/x-python",
   "name": "python",
   "nbconvert_exporter": "python",
   "pygments_lexer": "ipython3",
   "version": "3.7.3"
  }
 },
 "nbformat": 4,
 "nbformat_minor": 2
}
